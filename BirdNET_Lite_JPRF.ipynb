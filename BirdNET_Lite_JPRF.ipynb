{
  "cells": [
    {
      "cell_type": "markdown",
      "metadata": {
        "id": "view-in-github",
        "colab_type": "text"
      },
      "source": [
        "<a href=\"https://colab.research.google.com/github/SunnyTseng/run_birdnet_on_colab/blob/main/BirdNET_Lite_JPRF.ipynb\" target=\"_parent\"><img src=\"https://colab.research.google.com/assets/colab-badge.svg\" alt=\"Open In Colab\"/></a>"
      ]
    },
    {
      "cell_type": "code",
      "execution_count": null,
      "metadata": {
        "id": "LfC8zcUAqIAE"
      },
      "outputs": [],
      "source": [
        "# basic calculation\n",
        "import os\n",
        "import numpy as np\n",
        "import pandas as pd\n",
        "import matplotlib.pyplot as plt\n",
        "import glob\n",
        "\n",
        "# audio processing\n",
        "from scipy.io import wavfile as wavefile\n",
        "from IPython.display import Audio\n",
        "import subprocess\n",
        "!pip install resampy\n",
        "\n",
        "# data import\n",
        "from google.colab import drive"
      ]
    },
    {
      "cell_type": "code",
      "execution_count": null,
      "metadata": {
        "id": "JoGVX_3oqz_V"
      },
      "outputs": [],
      "source": [
        "#get data drive from my google drive\n",
        "drive.mount('/content/gdrive')\n",
        "\n",
        "#git clone BirdNET-Lite\n",
        "!git clone https://github.com/kahst/BirdNET-Lite.git"
      ]
    },
    {
      "cell_type": "code",
      "execution_count": null,
      "metadata": {
        "id": "L9GfvmJx_zva"
      },
      "outputs": [],
      "source": [
        "#direct to the python working directory\n",
        "os.chdir('/content/BirdNET-Lite')"
      ]
    },
    {
      "cell_type": "code",
      "source": [
        "#\n",
        "# For all .wav files in the whole folder\n",
        "# \n",
        "\n",
        "# Set the path to the WAV directory\n",
        "wav_dir = \"/content/gdrive/MyDrive/WAV/*.wav\"\n",
        "\n",
        "# Set the path to the output directory\n",
        "output_dir = \"/content/gdrive/MyDrive/WAV_output\"\n",
        "\n",
        "# Create the output directory if it doesn't exist\n",
        "if not os.path.exists(output_dir):\n",
        "    os.makedirs(output_dir)\n",
        "\n",
        "# Loop through all the WAV files in the directory\n",
        "for wav_file in glob.glob(wav_dir):\n",
        "    # Get the name of the WAV file without the directory path or file extension\n",
        "    wav_name = os.path.splitext(os.path.basename(wav_file))[0]\n",
        "    \n",
        "    # Set the path for the output CSV file\n",
        "    output_file = os.path.join(output_dir, f\"{wav_name}_output.csv\")\n",
        "    \n",
        "    # Run the BirdNET analysis on each file\n",
        "    !python3 analyze.py --i \"$wav_file\" --lat 51.3093 --lon -121.7945 --week 18 --o \"BirdNET_output.txt\" --min_conf 0.1\n",
        "\n",
        "    # Read the results into a pandas DataFrame\n",
        "    result = pd.read_table(\"BirdNET_output.txt\", sep=\";\")\n",
        "    \n",
        "    # Save the results to a CSV file\n",
        "    result.to_csv(output_file, index=False)\n"
      ],
      "metadata": {
        "id": "5MhZP5ut8xit"
      },
      "execution_count": null,
      "outputs": []
    },
    {
      "cell_type": "code",
      "execution_count": null,
      "metadata": {
        "id": "8bb8huI5Ogrw"
      },
      "outputs": [],
      "source": [
        "#\n",
        "# For single files\n",
        "#\n",
        "\n",
        "!python3 analyze.py --i '../gdrive/MyDrive/WAV/190427_1118_COLO.wav' --lat 51.3093 --lon -121.7945 --week 18 --o 'BirdNET_output.txt' --min_conf 0.1\n",
        "\n",
        "result = pd.read_table('BirdNET_output.txt', sep = ';')"
      ]
    },
    {
      "cell_type": "code",
      "execution_count": null,
      "metadata": {
        "id": "a2U1EsMM9zmg"
      },
      "outputs": [],
      "source": [
        "# parameters to set while running BirdNET-Lite\n",
        "\n",
        "#--i, Path to input file.\n",
        "#--o, Path to output file. Defaults to result.csv.\n",
        "#--lat, Recording location latitude. Set -1 to ignore.\n",
        "#--lon, Recording location longitude. Set -1 to ignore.\n",
        "#--week, Week of the year when the recording was made. Values in [1, 48] (4 weeks per month). Set -1 to ignore.\n",
        "#--overlap, Overlap in seconds between extracted spectrograms. Values in [0.0, 2.9]. Defaults tp 0.0.\n",
        "#--sensitivity, Detection sensitivity; Higher values result in higher sensitivity. Values in [0.5, 1.5]. Defaults to 1.0.\n",
        "#--min_conf, Minimum confidence threshold. Values in [0.01, 0.99]. Defaults to 0.1.\n",
        "#--custom_list, Path to text file containing a list of species. Not used if not provided."
      ]
    }
  ],
  "metadata": {
    "colab": {
      "provenance": [],
      "include_colab_link": true
    },
    "kernelspec": {
      "display_name": "Python 3",
      "name": "python3"
    },
    "language_info": {
      "name": "python"
    }
  },
  "nbformat": 4,
  "nbformat_minor": 0
}