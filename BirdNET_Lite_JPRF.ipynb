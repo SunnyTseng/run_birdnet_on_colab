{
  "cells": [
    {
      "cell_type": "code",
      "execution_count": 6,
      "metadata": {
        "id": "LfC8zcUAqIAE"
      },
      "outputs": [],
      "source": [
        "# basic calculation\n",
        "import os\n",
        "import numpy as np\n",
        "import pandas as pd\n",
        "import matplotlib.pyplot as plt\n",
        "\n",
        "# audio processing\n",
        "from scipy.io import wavfile as wavefile\n",
        "from IPython.display import Audio\n",
        "import subprocess\n",
        "\n",
        "# data import\n",
        "from google.colab import drive"
      ]
    },
    {
      "cell_type": "code",
      "execution_count": 3,
      "metadata": {
        "colab": {
          "base_uri": "https://localhost:8080/"
        },
        "id": "JoGVX_3oqz_V",
        "outputId": "004f0083-82ee-4f6e-dd1d-25585897ae47"
      },
      "outputs": [
        {
          "name": "stdout",
          "output_type": "stream",
          "text": [
            "Mounted at /content/gdrive\n",
            "Cloning into 'BirdNET-Lite'...\n",
            "remote: Enumerating objects: 29, done.\u001b[K\n",
            "remote: Total 29 (delta 0), reused 0 (delta 0), pack-reused 29\u001b[K\n",
            "Unpacking objects: 100% (29/29), 58.09 MiB | 10.00 MiB/s, done.\n"
          ]
        }
      ],
      "source": [
        "#get data drive from my google drive\n",
        "drive.mount('/content/gdrive')\n",
        "\n",
        "#git clone BirdNET-Lite\n",
        "!git clone https://github.com/kahst/BirdNET-Lite.git"
      ]
    },
    {
      "cell_type": "code",
      "execution_count": 4,
      "metadata": {
        "id": "L9GfvmJx_zva"
      },
      "outputs": [],
      "source": [
        "#direct to the python working directory\n",
        "os.chdir('/content/BirdNET-Lite')"
      ]
    },
    {
      "cell_type": "code",
      "execution_count": 5,
      "metadata": {
        "colab": {
          "base_uri": "https://localhost:8080/"
        },
        "id": "8bb8huI5Ogrw",
        "outputId": "948355b6-5ebf-4188-ddcb-a38486c6d09e"
      },
      "outputs": [
        {
          "name": "stdout",
          "output_type": "stream",
          "text": [
            "INFO: Created TensorFlow Lite delegate for select TF ops.\n",
            "INFO: TfLiteFlexDelegate delegate: 1 nodes delegated out of 182 nodes with 1 partitions.\n",
            "\n",
            "INFO: Created TensorFlow Lite XNNPACK delegate for CPU.\n",
            "LOADING TF LITE MODEL... DONE!\n",
            "READING AUDIO DATA... DONE! READ 37 CHUNKS.\n",
            "ANALYZING AUDIO... DONE! Time 5.0 SECONDS\n",
            "WRITING RESULTS TO BirdNET_output.txt ... DONE! WROTE 5 RESULTS.\n"
          ]
        }
      ],
      "source": [
        "!python3 analyze.py --i '../gdrive/MyDrive/BirdNET_audio/\"YOUR AUDIO FILE\".wav' --lat 51.3093 --lon -121.7945 --week 18 --o 'BirdNET_output.txt' --min_conf 0.1\n",
        "\n",
        "result = pd.read_table('BirdNET_output.txt', sep = ';')"
      ]
    },
    {
      "cell_type": "code",
      "execution_count": null,
      "metadata": {
        "id": "a2U1EsMM9zmg"
      },
      "outputs": [],
      "source": [
        "# parameters to set while running BirdNET-Lite\n",
        "\n",
        "#--i, Path to input file.\n",
        "#--o, Path to output file. Defaults to result.csv.\n",
        "#--lat, Recording location latitude. Set -1 to ignore.\n",
        "#--lon, Recording location longitude. Set -1 to ignore.\n",
        "#--week, Week of the year when the recording was made. Values in [1, 48] (4 weeks per month). Set -1 to ignore.\n",
        "#--overlap, Overlap in seconds between extracted spectrograms. Values in [0.0, 2.9]. Defaults tp 0.0.\n",
        "#--sensitivity, Detection sensitivity; Higher values result in higher sensitivity. Values in [0.5, 1.5]. Defaults to 1.0.\n",
        "#--min_conf, Minimum confidence threshold. Values in [0.01, 0.99]. Defaults to 0.1.\n",
        "#--custom_list, Path to text file containing a list of species. Not used if not provided."
      ]
    }
  ],
  "metadata": {
    "colab": {
      "provenance": []
    },
    "kernelspec": {
      "display_name": "Python 3",
      "name": "python3"
    },
    "language_info": {
      "name": "python"
    }
  },
  "nbformat": 4,
  "nbformat_minor": 0
}
